{
  "nbformat": 4,
  "nbformat_minor": 0,
  "metadata": {
    "colab": {
      "provenance": [],
      "authorship_tag": "ABX9TyPao5KLmm4aktV7OyLLHdNX",
      "include_colab_link": true
    },
    "kernelspec": {
      "name": "python3",
      "display_name": "Python 3"
    },
    "language_info": {
      "name": "python"
    }
  },
  "cells": [
    {
      "cell_type": "markdown",
      "metadata": {
        "id": "view-in-github",
        "colab_type": "text"
      },
      "source": [
        "<a href=\"https://colab.research.google.com/github/Prudhvivarmap/fml-lab/blob/main/reuters.ipynb\" target=\"_parent\"><img src=\"https://colab.research.google.com/assets/colab-badge.svg\" alt=\"Open In Colab\"/></a>"
      ]
    },
    {
      "cell_type": "code",
      "execution_count": 9,
      "metadata": {
        "colab": {
          "base_uri": "https://localhost:8080/"
        },
        "id": "PY5AqoIuWGjW",
        "outputId": "66c09a4d-14bd-4e84-f152-4398b4d0f43d"
      },
      "outputs": [
        {
          "output_type": "stream",
          "name": "stderr",
          "text": [
            "[nltk_data] Downloading package reuters to /root/nltk_data...\n",
            "[nltk_data]   Package reuters is already up-to-date!\n",
            "[nltk_data] Downloading package punkt to /root/nltk_data...\n",
            "[nltk_data]   Unzipping tokenizers/punkt.zip.\n"
          ]
        },
        {
          "output_type": "execute_result",
          "data": {
            "text/plain": [
              "True"
            ]
          },
          "metadata": {},
          "execution_count": 9
        }
      ],
      "source": [
        "import nltk\n",
        "nltk.download('reuters')\n",
        "nltk.download('punkt')"
      ]
    },
    {
      "cell_type": "code",
      "source": [
        "from nltk.corpus import reuters\n",
        "from nltk import bigrams, trigrams\n",
        "from collections import Counter, defaultdict"
      ],
      "metadata": {
        "id": "VslslHWDXaMC"
      },
      "execution_count": 5,
      "outputs": []
    },
    {
      "cell_type": "code",
      "source": [
        "model = defaultdict(lambda: defaultdict(lambda: 0))"
      ],
      "metadata": {
        "id": "U71kFUlLYTWZ"
      },
      "execution_count": 6,
      "outputs": []
    },
    {
      "cell_type": "code",
      "source": [
        "for sentence in reuters.sents():\n",
        "    for w1, w2, w3 in trigrams(sentence, pad_right=True, pad_left=True):\n",
        "        model[(w1, w2)][w3] += 1\n",
        "for w1_w2 in model:\n",
        "    total_count = float(sum(model[w1_w2].values()))\n",
        "    for w3 in model[w1_w2]:\n",
        "        model[w1_w2][w3] /= total_count"
      ],
      "metadata": {
        "id": "RSnvQus7YZi5"
      },
      "execution_count": 11,
      "outputs": []
    },
    {
      "cell_type": "code",
      "source": [
        "dict(model[\"today\",\"the\"])"
      ],
      "metadata": {
        "colab": {
          "base_uri": "https://localhost:8080/"
        },
        "id": "bCZ40qpcZCf8",
        "outputId": "fe0146d4-c7a8-4ba7-d817-84b72603681e"
      },
      "execution_count": 12,
      "outputs": [
        {
          "output_type": "execute_result",
          "data": {
            "text/plain": [
              "{'public': 0.055555555555555546,\n",
              " 'European': 0.055555555555555546,\n",
              " 'Bank': 0.055555555555555546,\n",
              " 'price': 0.11111111111111109,\n",
              " 'emirate': 0.055555555555555546,\n",
              " 'overseas': 0.055555555555555546,\n",
              " 'newspaper': 0.055555555555555546,\n",
              " 'company': 0.16666666666666666,\n",
              " 'Turkish': 0.055555555555555546,\n",
              " 'increase': 0.055555555555555546,\n",
              " 'options': 0.055555555555555546,\n",
              " 'Higher': 0.055555555555555546,\n",
              " 'pound': 0.055555555555555546,\n",
              " 'Italian': 0.055555555555555546,\n",
              " 'time': 0.055555555555555546}"
            ]
          },
          "metadata": {},
          "execution_count": 12
        }
      ]
    },
    {
      "cell_type": "code",
      "source": [
        "dict(model[\"the\",\"price\"])"
      ],
      "metadata": {
        "colab": {
          "base_uri": "https://localhost:8080/"
        },
        "id": "j16B2Q8sZDgV",
        "outputId": "63b26d79-4552-45f5-e825-5495ee51e0d9"
      },
      "execution_count": 13,
      "outputs": [
        {
          "output_type": "execute_result",
          "data": {
            "text/plain": [
              "{'yesterday': 0.0046511627906976665,\n",
              " 'of': 0.32093023255813896,\n",
              " 'it': 0.05581395348837199,\n",
              " 'effect': 0.0046511627906976665,\n",
              " 'cut': 0.009302325581395333,\n",
              " 'for': 0.05116279069767432,\n",
              " 'paid': 0.013953488372092997,\n",
              " 'to': 0.05581395348837199,\n",
              " 'increases': 0.013953488372092997,\n",
              " 'used': 0.0046511627906976665,\n",
              " 'climate': 0.0046511627906976665,\n",
              " '.': 0.02325581395348833,\n",
              " 'cuts': 0.009302325581395333,\n",
              " 'reductions': 0.0046511627906976665,\n",
              " 'limit': 0.0046511627906976665,\n",
              " 'now': 0.0046511627906976665,\n",
              " 'moved': 0.0046511627906976665,\n",
              " 'per': 0.013953488372092997,\n",
              " 'adjustments': 0.0046511627906976665,\n",
              " '(': 0.009302325581395333,\n",
              " 'slumped': 0.0046511627906976665,\n",
              " 'is': 0.018604651162790666,\n",
              " 'move': 0.0046511627906976665,\n",
              " 'evolution': 0.0046511627906976665,\n",
              " 'differentials': 0.009302325581395333,\n",
              " 'went': 0.0046511627906976665,\n",
              " 'the': 0.013953488372092997,\n",
              " 'factor': 0.0046511627906976665,\n",
              " 'Royal': 0.0046511627906976665,\n",
              " ',': 0.018604651162790666,\n",
              " 'again': 0.0046511627906976665,\n",
              " 'changes': 0.0046511627906976665,\n",
              " 'holds': 0.0046511627906976665,\n",
              " 'has': 0.009302325581395333,\n",
              " 'fall': 0.0046511627906976665,\n",
              " '-': 0.0046511627906976665,\n",
              " 'from': 0.0046511627906976665,\n",
              " 'base': 0.0046511627906976665,\n",
              " 'on': 0.0046511627906976665,\n",
              " 'review': 0.0046511627906976665,\n",
              " 'while': 0.0046511627906976665,\n",
              " 'collapse': 0.0046511627906976665,\n",
              " 'being': 0.0046511627906976665,\n",
              " 'at': 0.02325581395348833,\n",
              " 'outlook': 0.0046511627906976665,\n",
              " 'rises': 0.0046511627906976665,\n",
              " 'drop': 0.0046511627906976665,\n",
              " 'guaranteed': 0.0046511627906976665,\n",
              " ',\"': 0.0046511627906976665,\n",
              " 'stayed': 0.009302325581395333,\n",
              " 'structure': 0.0046511627906976665,\n",
              " 'and': 0.0046511627906976665,\n",
              " 'could': 0.0046511627906976665,\n",
              " 'related': 0.0046511627906976665,\n",
              " 'hike': 0.0046511627906976665,\n",
              " 'we': 0.0046511627906976665,\n",
              " 'adjustment': 0.02325581395348833,\n",
              " 'policy': 0.0046511627906976665,\n",
              " 'was': 0.009302325581395333,\n",
              " 'revision': 0.0046511627906976665,\n",
              " 'freeze': 0.009302325581395333,\n",
              " 'led': 0.0046511627906976665,\n",
              " 'action': 0.0046511627906976665,\n",
              " 'zone': 0.0046511627906976665,\n",
              " 'slump': 0.0046511627906976665,\n",
              " 'had': 0.0046511627906976665,\n",
              " 'difference': 0.0046511627906976665,\n",
              " 'in': 0.0046511627906976665,\n",
              " 'raise': 0.0046511627906976665,\n",
              " 'increase': 0.009302325581395333,\n",
              " 'will': 0.013953488372092997,\n",
              " 'support': 0.0046511627906976665,\n",
              " 'gap': 0.0046511627906976665,\n",
              " 'would': 0.009302325581395333,\n",
              " 'projected': 0.0046511627906976665,\n",
              " 'approached': 0.0046511627906976665,\n",
              " 'instability': 0.0046511627906976665}"
            ]
          },
          "metadata": {},
          "execution_count": 13
        }
      ]
    }
  ]
}